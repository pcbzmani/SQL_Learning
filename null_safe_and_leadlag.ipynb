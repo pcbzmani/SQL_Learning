{
  "nbformat": 4,
  "nbformat_minor": 0,
  "metadata": {
    "colab": {
      "provenance": [],
      "authorship_tag": "ABX9TyNdI0ZV1nYJ1Ow3Wb8pgWqu",
      "include_colab_link": true
    },
    "kernelspec": {
      "name": "python3",
      "display_name": "Python 3"
    },
    "language_info": {
      "name": "python"
    }
  },
  "cells": [
    {
      "cell_type": "markdown",
      "metadata": {
        "id": "view-in-github",
        "colab_type": "text"
      },
      "source": [
        "<a href=\"https://colab.research.google.com/github/pcbzmani/SQL_Learning/blob/main/null_safe_and_leadlag.ipynb\" target=\"_parent\"><img src=\"https://colab.research.google.com/assets/colab-badge.svg\" alt=\"Open In Colab\"/></a>"
      ]
    },
    {
      "cell_type": "code",
      "source": [
        "!pip install pyspark"
      ],
      "metadata": {
        "colab": {
          "base_uri": "https://localhost:8080/"
        },
        "id": "EiF9tqXdRjac",
        "outputId": "ea2499e7-90d9-41be-8705-50db34a7266d"
      },
      "execution_count": 1,
      "outputs": [
        {
          "output_type": "stream",
          "name": "stdout",
          "text": [
            "Collecting pyspark\n",
            "  Downloading pyspark-3.5.2.tar.gz (317.3 MB)\n",
            "\u001b[2K     \u001b[90m━━━━━━━━━━━━━━━━━━━━━━━━━━━━━━━━━━━━━━━━\u001b[0m \u001b[32m317.3/317.3 MB\u001b[0m \u001b[31m4.7 MB/s\u001b[0m eta \u001b[36m0:00:00\u001b[0m\n",
            "\u001b[?25h  Preparing metadata (setup.py) ... \u001b[?25l\u001b[?25hdone\n",
            "Requirement already satisfied: py4j==0.10.9.7 in /usr/local/lib/python3.10/dist-packages (from pyspark) (0.10.9.7)\n",
            "Building wheels for collected packages: pyspark\n",
            "  Building wheel for pyspark (setup.py) ... \u001b[?25l\u001b[?25hdone\n",
            "  Created wheel for pyspark: filename=pyspark-3.5.2-py2.py3-none-any.whl size=317812365 sha256=0f4eaca2b49222d14bf34bfe50580a52d6ac53a13b504adfdcff9afa15db1abb\n",
            "  Stored in directory: /root/.cache/pip/wheels/34/34/bd/03944534c44b677cd5859f248090daa9fb27b3c8f8e5f49574\n",
            "Successfully built pyspark\n",
            "Installing collected packages: pyspark\n",
            "Successfully installed pyspark-3.5.2\n"
          ]
        }
      ]
    },
    {
      "cell_type": "code",
      "execution_count": null,
      "metadata": {
        "colab": {
          "base_uri": "https://localhost:8080/"
        },
        "id": "o3Nj3QW8RJT_",
        "outputId": "41fd961d-55f0-4a86-a35c-0ea1b630cc2d"
      },
      "outputs": [
        {
          "output_type": "stream",
          "name": "stdout",
          "text": [
            "+---------------+---+-------+\n",
            "|name           |age|address|\n",
            "+---------------+---+-------+\n",
            "|James Smith    |30 |Block1 |\n",
            "|Michael Rose,  |40 |Block2 |\n",
            "|Robert Williams|50 |NULL   |\n",
            "|Maria Anne     |60 |Block1 |\n",
            "|Jen Brown      |70 |Block2 |\n",
            "+---------------+---+-------+\n",
            "\n"
          ]
        }
      ],
      "source": [
        "# prompt: create a spark dataframe with some null and valid values\n",
        "\n",
        "from pyspark.sql import SparkSession\n",
        "from pyspark.sql.types import StructType, StructField, StringType, IntegerType\n",
        "\n",
        "spark = SparkSession.builder.appName(\"NullAndNotNullExample\").getOrCreate()\n",
        "\n",
        "data = [(\"James Smith\", 30, \"Block1\"),\n",
        "        (\"Michael Rose,\", 40, \"Block2\"),\n",
        "        (\"Robert Williams\", 50, None),\n",
        "        (\"Maria Anne\", 60, \"Block1\"),\n",
        "        (\"Jen Brown\", 70, \"Block2\")\n",
        "       ]\n",
        "\n",
        "schema = StructType([\n",
        "    StructField(\"name\", StringType(), True),\n",
        "    StructField(\"age\", IntegerType(), True),\n",
        "    StructField(\"address\", StringType(), True)\n",
        "])\n",
        "\n",
        "df = spark.createDataFrame(data=data, schema=schema)\n",
        "\n",
        "# df.show(truncate=False)\n",
        "df.createOrReplaceTempView('customer')"
      ]
    },
    {
      "cell_type": "code",
      "source": [
        "df = spark.sql(f\"\"\"\n",
        "    select * from customer\n",
        "    where address != 'Block1'\n",
        "\"\"\")"
      ],
      "metadata": {
        "id": "DgANUC4QRdVN"
      },
      "execution_count": null,
      "outputs": []
    },
    {
      "cell_type": "code",
      "source": [
        "df.show(truncate = False)"
      ],
      "metadata": {
        "colab": {
          "base_uri": "https://localhost:8080/"
        },
        "id": "y3UOecSDSLn7",
        "outputId": "e7f2ddc2-53f6-47c2-bf98-57ac6a35d361"
      },
      "execution_count": null,
      "outputs": [
        {
          "output_type": "stream",
          "name": "stdout",
          "text": [
            "+-------------+---+-------+\n",
            "|name         |age|address|\n",
            "+-------------+---+-------+\n",
            "|Michael Rose,|40 |Block2 |\n",
            "|Jen Brown    |70 |Block2 |\n",
            "+-------------+---+-------+\n",
            "\n"
          ]
        }
      ]
    },
    {
      "cell_type": "code",
      "source": [
        "df1 = spark.sql(f\"\"\"\n",
        "    select * from customer\n",
        "    where address = 'Block1'\n",
        "\"\"\")"
      ],
      "metadata": {
        "id": "dXOgyYXiSS5M"
      },
      "execution_count": null,
      "outputs": []
    },
    {
      "cell_type": "code",
      "source": [
        "df1.show(truncate = False)"
      ],
      "metadata": {
        "colab": {
          "base_uri": "https://localhost:8080/"
        },
        "id": "tQXILoPHSmp9",
        "outputId": "b1a98f2d-5038-47c5-fc2e-0e2d95ee8d60"
      },
      "execution_count": null,
      "outputs": [
        {
          "output_type": "stream",
          "name": "stdout",
          "text": [
            "+-----------+---+-------+\n",
            "|name       |age|address|\n",
            "+-----------+---+-------+\n",
            "|James Smith|30 |Block1 |\n",
            "|Maria Anne |60 |Block1 |\n",
            "+-----------+---+-------+\n",
            "\n"
          ]
        }
      ]
    },
    {
      "cell_type": "code",
      "source": [
        "df2 = spark.sql(f\"\"\"\n",
        "    select * from customer\n",
        "    where !(address <=> 'Block1')\n",
        "\"\"\")"
      ],
      "metadata": {
        "id": "8cawvgHqSqeu"
      },
      "execution_count": null,
      "outputs": []
    },
    {
      "cell_type": "code",
      "source": [
        "df2.show(truncate = False)"
      ],
      "metadata": {
        "colab": {
          "base_uri": "https://localhost:8080/"
        },
        "id": "Na5vNqW7Svjc",
        "outputId": "93deec03-4897-4dc2-a78b-11414007eb27"
      },
      "execution_count": null,
      "outputs": [
        {
          "output_type": "stream",
          "name": "stdout",
          "text": [
            "+---------------+---+-------+\n",
            "|name           |age|address|\n",
            "+---------------+---+-------+\n",
            "|Michael Rose,  |40 |Block2 |\n",
            "|Robert Williams|50 |NULL   |\n",
            "|Jen Brown      |70 |Block2 |\n",
            "+---------------+---+-------+\n",
            "\n"
          ]
        }
      ]
    },
    {
      "cell_type": "code",
      "source": [
        "df3 = spark.sql(f\"\"\"\n",
        "    select * from customer\n",
        "    where coalesce(address, 'Empty') != 'Block1'\n",
        "\"\"\")"
      ],
      "metadata": {
        "id": "KKuO7vk5Ziv9"
      },
      "execution_count": null,
      "outputs": []
    },
    {
      "cell_type": "code",
      "source": [
        "df3.show()"
      ],
      "metadata": {
        "id": "GtwCjMaLZpd1",
        "outputId": "33ed5387-89e7-42f7-dcc7-f0c9bdcdb01d",
        "colab": {
          "base_uri": "https://localhost:8080/"
        }
      },
      "execution_count": null,
      "outputs": [
        {
          "output_type": "stream",
          "name": "stdout",
          "text": [
            "+---------------+---+-------+\n",
            "|           name|age|address|\n",
            "+---------------+---+-------+\n",
            "|  Michael Rose,| 40| Block2|\n",
            "|Robert Williams| 50|   NULL|\n",
            "|      Jen Brown| 70| Block2|\n",
            "+---------------+---+-------+\n",
            "\n"
          ]
        }
      ]
    },
    {
      "cell_type": "code",
      "source": [
        "spark.sql(\" Select 1 = 1, NULL = NULL, 2 = NULL\").show(truncate=False)"
      ],
      "metadata": {
        "colab": {
          "base_uri": "https://localhost:8080/"
        },
        "id": "jKh3m1a9SxRB",
        "outputId": "ceeb5071-e420-41ec-b137-eab83b03ec94"
      },
      "execution_count": null,
      "outputs": [
        {
          "output_type": "stream",
          "name": "stdout",
          "text": [
            "+-------+-------------+----------+\n",
            "|(1 = 1)|(NULL = NULL)|(2 = NULL)|\n",
            "+-------+-------------+----------+\n",
            "|true   |NULL         |NULL      |\n",
            "+-------+-------------+----------+\n",
            "\n"
          ]
        }
      ]
    },
    {
      "cell_type": "code",
      "source": [
        "spark.sql(\" Select 1 <=> 1, NULL <=> NULL, 2 <=> NULL\").show(truncate=False)"
      ],
      "metadata": {
        "colab": {
          "base_uri": "https://localhost:8080/"
        },
        "id": "xAOrHD8ZYprL",
        "outputId": "dce172a5-bc31-43ca-d00e-b18b439804e4"
      },
      "execution_count": null,
      "outputs": [
        {
          "output_type": "stream",
          "name": "stdout",
          "text": [
            "+---------+---------------+------------+\n",
            "|(1 <=> 1)|(NULL <=> NULL)|(2 <=> NULL)|\n",
            "+---------+---------------+------------+\n",
            "|true     |true           |false       |\n",
            "+---------+---------------+------------+\n",
            "\n"
          ]
        }
      ]
    },
    {
      "cell_type": "code",
      "source": [
        "###\n",
        "\n",
        "# prompt: create a spark dataframe with some null and valid values\n",
        "\n",
        "from pyspark.sql import SparkSession\n",
        "from pyspark.sql.types import StructType, StructField, StringType, IntegerType, DateType\n",
        "\n",
        "spark = SparkSession.builder.appName(\"leadlagtable\").getOrCreate()\n",
        "\n",
        "data = [(1,'2024-01-01','2024-01-29')\n",
        "        ,(1,'2024-02-15','2024-03-29')\n",
        "        ,(1,'2024-05-01','2024-06-29')\n",
        "        ,(1,'2024-10-01','2024-12-29')\n",
        "        ,(2,'2024-01-01','2024-01-15')\n",
        "        ,(2,'2024-02-15','2024-03-29')\n",
        "        ,(2,'2024-06-01','2024-06-29')\n",
        "        ,(2,'2024-09-01','2024-12-29')\n",
        "       ]\n",
        "\n",
        "schema = StructType([\n",
        "    StructField(\"id\", IntegerType(), True),\n",
        "    StructField(\"start_dt\", StringType(), True),\n",
        "    StructField(\"end_dt\", StringType(), True)\n",
        "])\n"
      ],
      "metadata": {
        "id": "-GGynSZKYt0v"
      },
      "execution_count": 9,
      "outputs": []
    },
    {
      "cell_type": "code",
      "source": [
        "df = spark.createDataFrame(data=data, schema=schema)\n",
        "\n",
        "# df.show(truncate=False)\n",
        "df.createOrReplaceTempView('dateorder')"
      ],
      "metadata": {
        "id": "t_VAraWuEDTP"
      },
      "execution_count": 10,
      "outputs": []
    },
    {
      "cell_type": "code",
      "source": [
        "df = spark.sql(\"\"\"with new_dt as(\n",
        "select\n",
        "    id\n",
        "\t ,start_dt\n",
        "    ,end_dt\n",
        "    ,lag(date_add(to_date(end_dt,'yyyy-MM-dd'),  1)) over(partition by id order by end_dt) as new_start_dt\n",
        "    ,lead(date_sub(to_date(start_dt,'yyyy-MM-dd'),  1 )) over(partition by id order by start_dt) as new_end_dt\n",
        " from dateorder\n",
        " ),\n",
        " main_dt as (\n",
        " select\n",
        "   id\n",
        "   ,start_dt\n",
        "   ,end_dt\n",
        "   ,new_start_dt\n",
        "   ,lag(new_end_dt) over(partition by id order by start_dt) as new_end_date\n",
        " from new_dt\n",
        " )\n",
        " select * from (\n",
        " select\n",
        "\tid\n",
        "    ,new_start_dt as start_dt\n",
        "    ,new_end_date as end_dt\n",
        "    from main_dt\n",
        "    where new_start_dt is not null\n",
        "    union\n",
        "    select\n",
        "\tid\n",
        "    ,start_dt\n",
        "    ,end_dt\n",
        "    from dateorder\n",
        "   ) a\n",
        "   order by a.id\n",
        "   ,a.start_dt\n",
        "\"\"\")\n",
        "df.show()"
      ],
      "metadata": {
        "colab": {
          "base_uri": "https://localhost:8080/"
        },
        "id": "CfM0EUuQEKlo",
        "outputId": "5a70a280-9836-4a0a-e2c5-143b9fe7afdc"
      },
      "execution_count": 11,
      "outputs": [
        {
          "output_type": "stream",
          "name": "stdout",
          "text": [
            "+---+----------+----------+\n",
            "| id|  start_dt|    end_dt|\n",
            "+---+----------+----------+\n",
            "|  1|2024-01-01|2024-01-29|\n",
            "|  1|2024-01-30|2024-02-14|\n",
            "|  1|2024-02-15|2024-03-29|\n",
            "|  1|2024-03-30|2024-04-30|\n",
            "|  1|2024-05-01|2024-06-29|\n",
            "|  1|2024-06-30|2024-09-30|\n",
            "|  1|2024-10-01|2024-12-29|\n",
            "|  2|2024-01-01|2024-01-15|\n",
            "|  2|2024-01-16|2024-02-14|\n",
            "|  2|2024-02-15|2024-03-29|\n",
            "|  2|2024-03-30|2024-05-31|\n",
            "|  2|2024-06-01|2024-06-29|\n",
            "|  2|2024-06-30|2024-08-31|\n",
            "|  2|2024-09-01|2024-12-29|\n",
            "+---+----------+----------+\n",
            "\n"
          ]
        }
      ]
    },
    {
      "cell_type": "code",
      "source": [],
      "metadata": {
        "id": "Q-isJcg2EXwT"
      },
      "execution_count": null,
      "outputs": []
    }
  ]
}