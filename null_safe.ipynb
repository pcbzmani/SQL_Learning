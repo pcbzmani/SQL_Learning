{
  "nbformat": 4,
  "nbformat_minor": 0,
  "metadata": {
    "colab": {
      "provenance": [],
      "authorship_tag": "ABX9TyNjhCPVN4QPxXta0g+mRFxf",
      "include_colab_link": true
    },
    "kernelspec": {
      "name": "python3",
      "display_name": "Python 3"
    },
    "language_info": {
      "name": "python"
    }
  },
  "cells": [
    {
      "cell_type": "markdown",
      "metadata": {
        "id": "view-in-github",
        "colab_type": "text"
      },
      "source": [
        "<a href=\"https://colab.research.google.com/github/pcbzmani/SQL_Learning/blob/main/null_safe.ipynb\" target=\"_parent\"><img src=\"https://colab.research.google.com/assets/colab-badge.svg\" alt=\"Open In Colab\"/></a>"
      ]
    },
    {
      "cell_type": "code",
      "source": [
        "!pip install pyspark"
      ],
      "metadata": {
        "colab": {
          "base_uri": "https://localhost:8080/"
        },
        "id": "EiF9tqXdRjac",
        "outputId": "b5fb7174-cf79-4e1d-8a02-13b77b22cf6a"
      },
      "execution_count": 3,
      "outputs": [
        {
          "output_type": "stream",
          "name": "stdout",
          "text": [
            "Collecting pyspark\n",
            "  Downloading pyspark-3.5.1.tar.gz (317.0 MB)\n",
            "\u001b[2K     \u001b[90m━━━━━━━━━━━━━━━━━━━━━━━━━━━━━━━━━━━━━━━━\u001b[0m \u001b[32m317.0/317.0 MB\u001b[0m \u001b[31m3.4 MB/s\u001b[0m eta \u001b[36m0:00:00\u001b[0m\n",
            "\u001b[?25h  Preparing metadata (setup.py) ... \u001b[?25l\u001b[?25hdone\n",
            "Requirement already satisfied: py4j==0.10.9.7 in /usr/local/lib/python3.10/dist-packages (from pyspark) (0.10.9.7)\n",
            "Building wheels for collected packages: pyspark\n",
            "  Building wheel for pyspark (setup.py) ... \u001b[?25l\u001b[?25hdone\n",
            "  Created wheel for pyspark: filename=pyspark-3.5.1-py2.py3-none-any.whl size=317488491 sha256=0433a180fd7f0ef4c51fdc6052eef55cebccfe0c34c7135d34f3a55d0bf0733f\n",
            "  Stored in directory: /root/.cache/pip/wheels/80/1d/60/2c256ed38dddce2fdd93be545214a63e02fbd8d74fb0b7f3a6\n",
            "Successfully built pyspark\n",
            "Installing collected packages: pyspark\n",
            "Successfully installed pyspark-3.5.1\n"
          ]
        }
      ]
    },
    {
      "cell_type": "code",
      "execution_count": 6,
      "metadata": {
        "colab": {
          "base_uri": "https://localhost:8080/"
        },
        "id": "o3Nj3QW8RJT_",
        "outputId": "41fd961d-55f0-4a86-a35c-0ea1b630cc2d"
      },
      "outputs": [
        {
          "output_type": "stream",
          "name": "stdout",
          "text": [
            "+---------------+---+-------+\n",
            "|name           |age|address|\n",
            "+---------------+---+-------+\n",
            "|James Smith    |30 |Block1 |\n",
            "|Michael Rose,  |40 |Block2 |\n",
            "|Robert Williams|50 |NULL   |\n",
            "|Maria Anne     |60 |Block1 |\n",
            "|Jen Brown      |70 |Block2 |\n",
            "+---------------+---+-------+\n",
            "\n"
          ]
        }
      ],
      "source": [
        "# prompt: create a spark dataframe with some null and valid values\n",
        "\n",
        "from pyspark.sql import SparkSession\n",
        "from pyspark.sql.types import StructType, StructField, StringType, IntegerType\n",
        "\n",
        "spark = SparkSession.builder.appName(\"NullAndNotNullExample\").getOrCreate()\n",
        "\n",
        "data = [(\"James Smith\", 30, \"Block1\"),\n",
        "        (\"Michael Rose,\", 40, \"Block2\"),\n",
        "        (\"Robert Williams\", 50, None),\n",
        "        (\"Maria Anne\", 60, \"Block1\"),\n",
        "        (\"Jen Brown\", 70, \"Block2\")\n",
        "       ]\n",
        "\n",
        "schema = StructType([\n",
        "    StructField(\"name\", StringType(), True),\n",
        "    StructField(\"age\", IntegerType(), True),\n",
        "    StructField(\"address\", StringType(), True)\n",
        "])\n",
        "\n",
        "df = spark.createDataFrame(data=data, schema=schema)\n",
        "\n",
        "# df.show(truncate=False)\n",
        "df.createOrReplaceTempView('customer')"
      ]
    },
    {
      "cell_type": "code",
      "source": [
        "df = spark.sql(f\"\"\"\n",
        "    select * from customer\n",
        "    where address != 'Block1'\n",
        "\"\"\")"
      ],
      "metadata": {
        "id": "DgANUC4QRdVN"
      },
      "execution_count": 13,
      "outputs": []
    },
    {
      "cell_type": "code",
      "source": [
        "df.show(truncate = False)"
      ],
      "metadata": {
        "colab": {
          "base_uri": "https://localhost:8080/"
        },
        "id": "y3UOecSDSLn7",
        "outputId": "e7f2ddc2-53f6-47c2-bf98-57ac6a35d361"
      },
      "execution_count": 14,
      "outputs": [
        {
          "output_type": "stream",
          "name": "stdout",
          "text": [
            "+-------------+---+-------+\n",
            "|name         |age|address|\n",
            "+-------------+---+-------+\n",
            "|Michael Rose,|40 |Block2 |\n",
            "|Jen Brown    |70 |Block2 |\n",
            "+-------------+---+-------+\n",
            "\n"
          ]
        }
      ]
    },
    {
      "cell_type": "code",
      "source": [
        "df1 = spark.sql(f\"\"\"\n",
        "    select * from customer\n",
        "    where address = 'Block1'\n",
        "\"\"\")"
      ],
      "metadata": {
        "id": "dXOgyYXiSS5M"
      },
      "execution_count": 15,
      "outputs": []
    },
    {
      "cell_type": "code",
      "source": [
        "df1.show(truncate = False)"
      ],
      "metadata": {
        "colab": {
          "base_uri": "https://localhost:8080/"
        },
        "id": "tQXILoPHSmp9",
        "outputId": "b1a98f2d-5038-47c5-fc2e-0e2d95ee8d60"
      },
      "execution_count": 16,
      "outputs": [
        {
          "output_type": "stream",
          "name": "stdout",
          "text": [
            "+-----------+---+-------+\n",
            "|name       |age|address|\n",
            "+-----------+---+-------+\n",
            "|James Smith|30 |Block1 |\n",
            "|Maria Anne |60 |Block1 |\n",
            "+-----------+---+-------+\n",
            "\n"
          ]
        }
      ]
    },
    {
      "cell_type": "code",
      "source": [
        "df2 = spark.sql(f\"\"\"\n",
        "    select * from customer\n",
        "    where !(address <=> 'Block1')\n",
        "\"\"\")"
      ],
      "metadata": {
        "id": "8cawvgHqSqeu"
      },
      "execution_count": 19,
      "outputs": []
    },
    {
      "cell_type": "code",
      "source": [
        "df2.show(truncate = False)"
      ],
      "metadata": {
        "colab": {
          "base_uri": "https://localhost:8080/"
        },
        "id": "Na5vNqW7Svjc",
        "outputId": "93deec03-4897-4dc2-a78b-11414007eb27"
      },
      "execution_count": 20,
      "outputs": [
        {
          "output_type": "stream",
          "name": "stdout",
          "text": [
            "+---------------+---+-------+\n",
            "|name           |age|address|\n",
            "+---------------+---+-------+\n",
            "|Michael Rose,  |40 |Block2 |\n",
            "|Robert Williams|50 |NULL   |\n",
            "|Jen Brown      |70 |Block2 |\n",
            "+---------------+---+-------+\n",
            "\n"
          ]
        }
      ]
    },
    {
      "cell_type": "code",
      "source": [
        "spark.sql(\" Select 1 = 1, NULL = NULL, 2 = NULL\").show(truncate=False)"
      ],
      "metadata": {
        "colab": {
          "base_uri": "https://localhost:8080/"
        },
        "id": "jKh3m1a9SxRB",
        "outputId": "ceeb5071-e420-41ec-b137-eab83b03ec94"
      },
      "execution_count": 21,
      "outputs": [
        {
          "output_type": "stream",
          "name": "stdout",
          "text": [
            "+-------+-------------+----------+\n",
            "|(1 = 1)|(NULL = NULL)|(2 = NULL)|\n",
            "+-------+-------------+----------+\n",
            "|true   |NULL         |NULL      |\n",
            "+-------+-------------+----------+\n",
            "\n"
          ]
        }
      ]
    },
    {
      "cell_type": "code",
      "source": [
        "spark.sql(\" Select 1 <=> 1, NULL <=> NULL, 2 <=> NULL\").show(truncate=False)"
      ],
      "metadata": {
        "colab": {
          "base_uri": "https://localhost:8080/"
        },
        "id": "xAOrHD8ZYprL",
        "outputId": "dce172a5-bc31-43ca-d00e-b18b439804e4"
      },
      "execution_count": 22,
      "outputs": [
        {
          "output_type": "stream",
          "name": "stdout",
          "text": [
            "+---------+---------------+------------+\n",
            "|(1 <=> 1)|(NULL <=> NULL)|(2 <=> NULL)|\n",
            "+---------+---------------+------------+\n",
            "|true     |true           |false       |\n",
            "+---------+---------------+------------+\n",
            "\n"
          ]
        }
      ]
    },
    {
      "cell_type": "code",
      "source": [],
      "metadata": {
        "id": "-GGynSZKYt0v"
      },
      "execution_count": null,
      "outputs": []
    }
  ]
}